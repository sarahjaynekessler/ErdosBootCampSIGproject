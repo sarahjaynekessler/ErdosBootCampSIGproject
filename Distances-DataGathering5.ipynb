{
 "cells": [
  {
   "cell_type": "code",
   "execution_count": 2,
   "metadata": {},
   "outputs": [],
   "source": [
    "import numpy as np\n",
    "import pandas as pd\n",
    "\n",
    "import matplotlib.pyplot as plt\n",
    "import seaborn as sns\n",
    "\n",
    "import datetime\n",
    "from opencage.geocoder import OpenCageGeocode\n",
    "from geopy import distance"
   ]
  },
  {
   "cell_type": "markdown",
   "metadata": {},
   "source": [
    "# This notebook finds the distance in miles between the home team's city and visiting team's city. It uses the API OpenCageGeocode"
   ]
  },
  {
   "cell_type": "code",
   "execution_count": 3,
   "metadata": {},
   "outputs": [],
   "source": [
    "nba = pd.read_csv('nba_split_temp_miles.csv')"
   ]
  },
  {
   "cell_type": "code",
   "execution_count": 16,
   "metadata": {},
   "outputs": [
    {
     "data": {
      "text/plain": [
       "Index(['date', 'start_time', 'vis_team', 'home_team', 'vis_points',\n",
       "       'home_points', 'ot', 'attendance', 'home_initial', 'vis_initial',\n",
       "       'home_players', 'home_bench', 'vis_players', 'vis_bench', 'referees',\n",
       "       'score_starter_home', 'score_bench_home', 'score_starter_vis',\n",
       "       'score_bench_vis', 'ref1', 'ref2', 'ref3', 'vp1', 'vp2', 'vp3', 'vp4',\n",
       "       'vp5', 'hp1', 'hp2', 'hp3', 'hp4', 'hp5', 'vis_city', 'home_city',\n",
       "       'vis_travel_mi', 'home_travel_mi', 'home_state', 'home_temp',\n",
       "       'travel_miles'],\n",
       "      dtype='object')"
      ]
     },
     "execution_count": 16,
     "metadata": {},
     "output_type": "execute_result"
    }
   ],
   "source": [
    "nba.columns"
   ]
  },
  {
   "cell_type": "code",
   "execution_count": 20,
   "metadata": {},
   "outputs": [],
   "source": [
    "nba['travel_miles'] = 0.\n",
    "miles = nba['travel_miles'].copy().tolist()"
   ]
  },
  {
   "cell_type": "code",
   "execution_count": 15,
   "metadata": {},
   "outputs": [
    {
     "data": {
      "text/plain": [
       "'Toronto, ON'"
      ]
     },
     "execution_count": 15,
     "metadata": {},
     "output_type": "execute_result"
    }
   ],
   "source": [
    "nba.iloc[0].home_city +', '+ nba.iloc[0].home_state #testing "
   ]
  },
  {
   "cell_type": "code",
   "execution_count": 19,
   "metadata": {},
   "outputs": [
    {
     "data": {
      "text/plain": [
       "'New Orleans'"
      ]
     },
     "execution_count": 19,
     "metadata": {},
     "output_type": "execute_result"
    }
   ],
   "source": [
    "#A city state dictionary for each city\n",
    "states = ['ON','CA','NC','IA','FL','NY','FL','PA','TX','TX','UT','AZ','OR','MI','TX','CA','MA',\n",
    "         'TN','LA','OK','CO','CA','WI','GA','NY','IL','OH','MN','DC']\n",
    "citystate = {nba.home_city.unique()[i]: states[i] for i in range(len(nba.home_city.unique()))} \n",
    "citystate\n"
   ]
  },
  {
   "cell_type": "markdown",
   "metadata": {},
   "source": [
    "# The below function uses my API key to find the lat and long of cities A and B and then finds the distance between the two in miles"
   ]
  },
  {
   "cell_type": "code",
   "execution_count": 7,
   "metadata": {},
   "outputs": [],
   "source": [
    "def find_distance(A,B):\n",
    "    key = 'ab7aad6baffe479aa6dc8c92cb981ea9'  # get api key from:  https://opencagedata.com\n",
    "    geocoder = OpenCageGeocode(key)\n",
    "    \n",
    "    result_A = geocoder.geocode(A)\n",
    "    lat_A = result_A[0]['geometry']['lat']\n",
    "    lng_A = result_A[0]['geometry']['lng']\n",
    "    \n",
    "    result_B = geocoder.geocode(B)\n",
    "    lat_B = result_B[0]['geometry']['lat']\n",
    "    lng_B = result_B[0]['geometry']['lng']  \n",
    "    \n",
    "    return (np.round(distance.distance((lat_A,lng_A), (lat_B,lng_B)).miles,decimals=1))"
   ]
  },
  {
   "cell_type": "code",
   "execution_count": 12,
   "metadata": {},
   "outputs": [
    {
     "data": {
      "text/plain": [
       "2114.0"
      ]
     },
     "execution_count": 12,
     "metadata": {},
     "output_type": "execute_result"
    }
   ],
   "source": [
    "find_distance('Toronto, ON','Portland, OR') #Test"
   ]
  },
  {
   "cell_type": "markdown",
   "metadata": {},
   "source": [
    "# OK that works now lets do every game in a for loop"
   ]
  },
  {
   "cell_type": "code",
   "execution_count": 21,
   "metadata": {},
   "outputs": [
    {
     "name": "stderr",
     "output_type": "stream",
     "text": [
      "/Users/kessler.363/anaconda3/lib/python3.7/site-packages/pandas/core/generic.py:5303: SettingWithCopyWarning: \n",
      "A value is trying to be set on a copy of a slice from a DataFrame\n",
      "\n",
      "See the caveats in the documentation: https://pandas.pydata.org/pandas-docs/stable/user_guide/indexing.html#returning-a-view-versus-a-copy\n",
      "  self[name] = value\n"
     ]
    }
   ],
   "source": [
    "for i in np.arange(len(nba)):\n",
    "    city1 = nba.iloc[i].home_city +', '+ citystate[nba.iloc[i].home_city]\n",
    "    city2 = nba.iloc[i].vis_city +', '+citystate[nba.iloc[i].vis_city]\n",
    "    if city1==city2:\n",
    "        d=0\n",
    "    else:\n",
    "        d = find_distance(city1,city2)\n",
    "    nba.iloc[i].travel_miles = d\n",
    "    miles.append(d)"
   ]
  },
  {
   "cell_type": "code",
   "execution_count": 27,
   "metadata": {},
   "outputs": [],
   "source": [
    "miles = miles[971:] # a mistake on my part where I forgot to create an empty list"
   ]
  },
  {
   "cell_type": "code",
   "execution_count": 29,
   "metadata": {},
   "outputs": [],
   "source": [
    "nba.travel_miles = miles #add as a column "
   ]
  },
  {
   "cell_type": "code",
   "execution_count": 32,
   "metadata": {},
   "outputs": [
    {
     "data": {
      "text/html": [
       "<div>\n",
       "<style scoped>\n",
       "    .dataframe tbody tr th:only-of-type {\n",
       "        vertical-align: middle;\n",
       "    }\n",
       "\n",
       "    .dataframe tbody tr th {\n",
       "        vertical-align: top;\n",
       "    }\n",
       "\n",
       "    .dataframe thead th {\n",
       "        text-align: right;\n",
       "    }\n",
       "</style>\n",
       "<table border=\"1\" class=\"dataframe\">\n",
       "  <thead>\n",
       "    <tr style=\"text-align: right;\">\n",
       "      <th></th>\n",
       "      <th>date</th>\n",
       "      <th>start_time</th>\n",
       "      <th>vis_team</th>\n",
       "      <th>home_team</th>\n",
       "      <th>vis_points</th>\n",
       "      <th>home_points</th>\n",
       "      <th>ot</th>\n",
       "      <th>attendance</th>\n",
       "      <th>home_initial</th>\n",
       "      <th>vis_initial</th>\n",
       "      <th>...</th>\n",
       "      <th>hp3</th>\n",
       "      <th>hp4</th>\n",
       "      <th>hp5</th>\n",
       "      <th>vis_city</th>\n",
       "      <th>home_city</th>\n",
       "      <th>vis_travel_mi</th>\n",
       "      <th>home_travel_mi</th>\n",
       "      <th>home_state</th>\n",
       "      <th>home_temp</th>\n",
       "      <th>travel_miles</th>\n",
       "    </tr>\n",
       "  </thead>\n",
       "  <tbody>\n",
       "    <tr>\n",
       "      <th>0</th>\n",
       "      <td>2019-10-22</td>\n",
       "      <td>20:00:00</td>\n",
       "      <td>New Orleans Pelicans</td>\n",
       "      <td>Toronto Raptors</td>\n",
       "      <td>122</td>\n",
       "      <td>130</td>\n",
       "      <td>1</td>\n",
       "      <td>20787</td>\n",
       "      <td>TOR</td>\n",
       "      <td>NOP</td>\n",
       "      <td>...</td>\n",
       "      <td>Pascal Siakam</td>\n",
       "      <td>OG Anunoby</td>\n",
       "      <td>Marc Gasol</td>\n",
       "      <td>New Orleans</td>\n",
       "      <td>Toronto</td>\n",
       "      <td>0</td>\n",
       "      <td>1113</td>\n",
       "      <td>ON</td>\n",
       "      <td>57.10</td>\n",
       "      <td>1113.2</td>\n",
       "    </tr>\n",
       "    <tr>\n",
       "      <th>1</th>\n",
       "      <td>2019-10-22</td>\n",
       "      <td>22:30:00</td>\n",
       "      <td>Los Angeles Lakers</td>\n",
       "      <td>Los Angeles Clippers</td>\n",
       "      <td>102</td>\n",
       "      <td>112</td>\n",
       "      <td>0</td>\n",
       "      <td>19068</td>\n",
       "      <td>LAC</td>\n",
       "      <td>LAL</td>\n",
       "      <td>...</td>\n",
       "      <td>Landry Shamet</td>\n",
       "      <td>Patrick Patterson</td>\n",
       "      <td>Ivica Zubac</td>\n",
       "      <td>Los Angeles</td>\n",
       "      <td>Los Angeles</td>\n",
       "      <td>0</td>\n",
       "      <td>0</td>\n",
       "      <td>CA</td>\n",
       "      <td>76.54</td>\n",
       "      <td>0.0</td>\n",
       "    </tr>\n",
       "    <tr>\n",
       "      <th>2</th>\n",
       "      <td>2019-10-23</td>\n",
       "      <td>19:00:00</td>\n",
       "      <td>Chicago Bulls</td>\n",
       "      <td>Charlotte Hornets</td>\n",
       "      <td>125</td>\n",
       "      <td>126</td>\n",
       "      <td>0</td>\n",
       "      <td>15424</td>\n",
       "      <td>CHO</td>\n",
       "      <td>CHI</td>\n",
       "      <td>...</td>\n",
       "      <td>Dwayne Bacon</td>\n",
       "      <td>Miles Bridges</td>\n",
       "      <td>Terry Rozier</td>\n",
       "      <td>Chicago</td>\n",
       "      <td>Charlotte</td>\n",
       "      <td>587</td>\n",
       "      <td>0</td>\n",
       "      <td>NC</td>\n",
       "      <td>57.13</td>\n",
       "      <td>587.1</td>\n",
       "    </tr>\n",
       "    <tr>\n",
       "      <th>3</th>\n",
       "      <td>2019-10-23</td>\n",
       "      <td>19:00:00</td>\n",
       "      <td>Detroit Pistons</td>\n",
       "      <td>Indiana Pacers</td>\n",
       "      <td>119</td>\n",
       "      <td>110</td>\n",
       "      <td>0</td>\n",
       "      <td>17923</td>\n",
       "      <td>IND</td>\n",
       "      <td>DET</td>\n",
       "      <td>...</td>\n",
       "      <td>Domantas Sabonis</td>\n",
       "      <td>T.J. Warren</td>\n",
       "      <td>Jeremy Lamb</td>\n",
       "      <td>Detroit</td>\n",
       "      <td>Indianapolis</td>\n",
       "      <td>0</td>\n",
       "      <td>240</td>\n",
       "      <td>IA</td>\n",
       "      <td>42.54</td>\n",
       "      <td>488.3</td>\n",
       "    </tr>\n",
       "    <tr>\n",
       "      <th>4</th>\n",
       "      <td>2019-10-23</td>\n",
       "      <td>19:00:00</td>\n",
       "      <td>Cleveland Cavaliers</td>\n",
       "      <td>Orlando Magic</td>\n",
       "      <td>85</td>\n",
       "      <td>94</td>\n",
       "      <td>0</td>\n",
       "      <td>18846</td>\n",
       "      <td>ORL</td>\n",
       "      <td>CLE</td>\n",
       "      <td>...</td>\n",
       "      <td>Evan Fournier</td>\n",
       "      <td>D.J. Augustin</td>\n",
       "      <td>Jonathan Isaac</td>\n",
       "      <td>Cleveland</td>\n",
       "      <td>Orlando</td>\n",
       "      <td>0</td>\n",
       "      <td>893</td>\n",
       "      <td>FL</td>\n",
       "      <td>76.45</td>\n",
       "      <td>893.8</td>\n",
       "    </tr>\n",
       "    <tr>\n",
       "      <th>5</th>\n",
       "      <td>2019-10-23</td>\n",
       "      <td>19:30:00</td>\n",
       "      <td>Minnesota Timberwolves</td>\n",
       "      <td>Brooklyn Nets</td>\n",
       "      <td>127</td>\n",
       "      <td>126</td>\n",
       "      <td>1</td>\n",
       "      <td>17732</td>\n",
       "      <td>BRK</td>\n",
       "      <td>MIN</td>\n",
       "      <td>...</td>\n",
       "      <td>Kyrie Irving</td>\n",
       "      <td>Caris LeVert</td>\n",
       "      <td>Jarrett Allen</td>\n",
       "      <td>Minneapolis</td>\n",
       "      <td>Brooklyn</td>\n",
       "      <td>1023</td>\n",
       "      <td>0</td>\n",
       "      <td>NY</td>\n",
       "      <td>49.76</td>\n",
       "      <td>1023.2</td>\n",
       "    </tr>\n",
       "    <tr>\n",
       "      <th>6</th>\n",
       "      <td>2019-10-23</td>\n",
       "      <td>19:30:00</td>\n",
       "      <td>Memphis Grizzlies</td>\n",
       "      <td>Miami Heat</td>\n",
       "      <td>101</td>\n",
       "      <td>120</td>\n",
       "      <td>0</td>\n",
       "      <td>19600</td>\n",
       "      <td>MIA</td>\n",
       "      <td>MEM</td>\n",
       "      <td>...</td>\n",
       "      <td>Kendrick Nunn</td>\n",
       "      <td>Bam Adebayo</td>\n",
       "      <td>Meyers Leonard</td>\n",
       "      <td>Memphis</td>\n",
       "      <td>Miami</td>\n",
       "      <td>0</td>\n",
       "      <td>872</td>\n",
       "      <td>FL</td>\n",
       "      <td>83.83</td>\n",
       "      <td>872.5</td>\n",
       "    </tr>\n",
       "    <tr>\n",
       "      <th>7</th>\n",
       "      <td>2019-10-23</td>\n",
       "      <td>19:30:00</td>\n",
       "      <td>Boston Celtics</td>\n",
       "      <td>Philadelphia 76ers</td>\n",
       "      <td>93</td>\n",
       "      <td>107</td>\n",
       "      <td>0</td>\n",
       "      <td>20422</td>\n",
       "      <td>PHI</td>\n",
       "      <td>BOS</td>\n",
       "      <td>...</td>\n",
       "      <td>Josh Richardson</td>\n",
       "      <td>Al Horford</td>\n",
       "      <td>Joel Embiid</td>\n",
       "      <td>Boston</td>\n",
       "      <td>Philadelphia</td>\n",
       "      <td>0</td>\n",
       "      <td>271</td>\n",
       "      <td>PA</td>\n",
       "      <td>59.28</td>\n",
       "      <td>271.0</td>\n",
       "    </tr>\n",
       "    <tr>\n",
       "      <th>8</th>\n",
       "      <td>2019-10-23</td>\n",
       "      <td>20:30:00</td>\n",
       "      <td>Washington Wizards</td>\n",
       "      <td>Dallas Mavericks</td>\n",
       "      <td>100</td>\n",
       "      <td>108</td>\n",
       "      <td>0</td>\n",
       "      <td>19816</td>\n",
       "      <td>DAL</td>\n",
       "      <td>WAS</td>\n",
       "      <td>...</td>\n",
       "      <td>Maxi Kleber</td>\n",
       "      <td>Delon Wright</td>\n",
       "      <td>Courtney Lee</td>\n",
       "      <td>Washington</td>\n",
       "      <td>Dallas</td>\n",
       "      <td>1183</td>\n",
       "      <td>0</td>\n",
       "      <td>TX</td>\n",
       "      <td>68.63</td>\n",
       "      <td>1183.8</td>\n",
       "    </tr>\n",
       "    <tr>\n",
       "      <th>9</th>\n",
       "      <td>2019-10-23</td>\n",
       "      <td>20:30:00</td>\n",
       "      <td>New York Knicks</td>\n",
       "      <td>San Antonio Spurs</td>\n",
       "      <td>111</td>\n",
       "      <td>120</td>\n",
       "      <td>0</td>\n",
       "      <td>18354</td>\n",
       "      <td>SAS</td>\n",
       "      <td>NYK</td>\n",
       "      <td>...</td>\n",
       "      <td>DeMar DeRozan</td>\n",
       "      <td>Trey Lyles</td>\n",
       "      <td>Dejounte Murray</td>\n",
       "      <td>New York</td>\n",
       "      <td>San Antonio</td>\n",
       "      <td>1583</td>\n",
       "      <td>0</td>\n",
       "      <td>TX</td>\n",
       "      <td>70.38</td>\n",
       "      <td>1583.2</td>\n",
       "    </tr>\n",
       "  </tbody>\n",
       "</table>\n",
       "<p>10 rows × 39 columns</p>\n",
       "</div>"
      ],
      "text/plain": [
       "         date start_time                vis_team             home_team  \\\n",
       "0  2019-10-22   20:00:00    New Orleans Pelicans       Toronto Raptors   \n",
       "1  2019-10-22   22:30:00      Los Angeles Lakers  Los Angeles Clippers   \n",
       "2  2019-10-23   19:00:00           Chicago Bulls     Charlotte Hornets   \n",
       "3  2019-10-23   19:00:00         Detroit Pistons        Indiana Pacers   \n",
       "4  2019-10-23   19:00:00     Cleveland Cavaliers         Orlando Magic   \n",
       "5  2019-10-23   19:30:00  Minnesota Timberwolves         Brooklyn Nets   \n",
       "6  2019-10-23   19:30:00       Memphis Grizzlies            Miami Heat   \n",
       "7  2019-10-23   19:30:00          Boston Celtics    Philadelphia 76ers   \n",
       "8  2019-10-23   20:30:00      Washington Wizards      Dallas Mavericks   \n",
       "9  2019-10-23   20:30:00         New York Knicks     San Antonio Spurs   \n",
       "\n",
       "   vis_points  home_points  ot  attendance home_initial vis_initial  ...  \\\n",
       "0         122          130   1       20787          TOR         NOP  ...   \n",
       "1         102          112   0       19068          LAC         LAL  ...   \n",
       "2         125          126   0       15424          CHO         CHI  ...   \n",
       "3         119          110   0       17923          IND         DET  ...   \n",
       "4          85           94   0       18846          ORL         CLE  ...   \n",
       "5         127          126   1       17732          BRK         MIN  ...   \n",
       "6         101          120   0       19600          MIA         MEM  ...   \n",
       "7          93          107   0       20422          PHI         BOS  ...   \n",
       "8         100          108   0       19816          DAL         WAS  ...   \n",
       "9         111          120   0       18354          SAS         NYK  ...   \n",
       "\n",
       "                hp3                hp4              hp5     vis_city  \\\n",
       "0     Pascal Siakam         OG Anunoby       Marc Gasol  New Orleans   \n",
       "1     Landry Shamet  Patrick Patterson      Ivica Zubac  Los Angeles   \n",
       "2      Dwayne Bacon      Miles Bridges     Terry Rozier      Chicago   \n",
       "3  Domantas Sabonis        T.J. Warren      Jeremy Lamb      Detroit   \n",
       "4     Evan Fournier      D.J. Augustin   Jonathan Isaac    Cleveland   \n",
       "5      Kyrie Irving       Caris LeVert    Jarrett Allen  Minneapolis   \n",
       "6     Kendrick Nunn        Bam Adebayo   Meyers Leonard      Memphis   \n",
       "7   Josh Richardson         Al Horford      Joel Embiid       Boston   \n",
       "8       Maxi Kleber       Delon Wright     Courtney Lee   Washington   \n",
       "9     DeMar DeRozan         Trey Lyles  Dejounte Murray     New York   \n",
       "\n",
       "      home_city  vis_travel_mi  home_travel_mi  home_state  home_temp  \\\n",
       "0       Toronto              0            1113          ON      57.10   \n",
       "1   Los Angeles              0               0          CA      76.54   \n",
       "2     Charlotte            587               0          NC      57.13   \n",
       "3  Indianapolis              0             240          IA      42.54   \n",
       "4       Orlando              0             893          FL      76.45   \n",
       "5      Brooklyn           1023               0          NY      49.76   \n",
       "6         Miami              0             872          FL      83.83   \n",
       "7  Philadelphia              0             271          PA      59.28   \n",
       "8        Dallas           1183               0          TX      68.63   \n",
       "9   San Antonio           1583               0          TX      70.38   \n",
       "\n",
       "  travel_miles  \n",
       "0       1113.2  \n",
       "1          0.0  \n",
       "2        587.1  \n",
       "3        488.3  \n",
       "4        893.8  \n",
       "5       1023.2  \n",
       "6        872.5  \n",
       "7        271.0  \n",
       "8       1183.8  \n",
       "9       1583.2  \n",
       "\n",
       "[10 rows x 39 columns]"
      ]
     },
     "execution_count": 32,
     "metadata": {},
     "output_type": "execute_result"
    }
   ],
   "source": [
    "nba[:10]"
   ]
  },
  {
   "cell_type": "code",
   "execution_count": 62,
   "metadata": {},
   "outputs": [],
   "source": [
    "nba.to_csv('nba_split_temp_miles.csv',index=False) #write to csv"
   ]
  },
  {
   "cell_type": "code",
   "execution_count": null,
   "metadata": {},
   "outputs": [],
   "source": []
  }
 ],
 "metadata": {
  "kernelspec": {
   "display_name": "Python 3",
   "language": "python",
   "name": "python3"
  },
  "language_info": {
   "codemirror_mode": {
    "name": "ipython",
    "version": 3
   },
   "file_extension": ".py",
   "mimetype": "text/x-python",
   "name": "python",
   "nbconvert_exporter": "python",
   "pygments_lexer": "ipython3",
   "version": "3.7.3"
  }
 },
 "nbformat": 4,
 "nbformat_minor": 4
}
