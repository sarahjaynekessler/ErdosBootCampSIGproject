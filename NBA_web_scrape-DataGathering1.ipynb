{
 "cells": [
  {
   "cell_type": "code",
   "execution_count": 78,
   "metadata": {},
   "outputs": [],
   "source": [
    "import pandas as pd\n",
    "from bs4 import BeautifulSoup\n",
    "import numpy as np\n",
    "from urllib.request import urlopen, Request\n",
    "import datetime\n",
    "import time\n"
   ]
  },
  {
   "cell_type": "markdown",
   "metadata": {},
   "source": [
    "# This notebook creates the beginning of the dataframe with data from www.basketball-reference.com. It uses BeautifulSoup to scrape the data"
   ]
  },
  {
   "cell_type": "code",
   "execution_count": 111,
   "metadata": {},
   "outputs": [],
   "source": [
    "#returns a list of strings all of the months since january\n",
    "#if lower=True will return non-capitalized months\n",
    "def getPastMonths(lower=False):    \n",
    "    all_months = ['January', 'February', 'March', 'April', 'May', 'June', 'July','August', 'September',\n",
    "                  'October', 'November', 'December']\n",
    "    current_month = datetime.datetime.now().strftime('%B')\n",
    "    if lower==True:\n",
    "        all_months = [i.lower() for i in all_months]\n",
    "        current_month = datetime.datetime.now().strftime('%B').lower()\n",
    "\n",
    "    months = all_months[0:all_months.index(current_month)+1]\n",
    "    return(months)"
   ]
  },
  {
   "cell_type": "code",
   "execution_count": 112,
   "metadata": {},
   "outputs": [],
   "source": [
    "#returns a list of strings all of the months since the start of the nba season in october\n",
    "#if lower=True will return non-capitalized months\n",
    "def getPastMonths_nba(lower=False):    \n",
    "    all_months = ['October', 'November', 'December', 'January', 'March', 'April', 'May','June' ]\n",
    "    current_month = datetime.datetime.now().strftime('%B')\n",
    "\n",
    "    if lower==True:\n",
    "        all_months = [i.lower() for i in all_months]\n",
    "        current_month = datetime.datetime.now().strftime('%B').lower()\n",
    "        \n",
    "    if current_month not in all_months:\n",
    "        months = all_months\n",
    "    else:\n",
    "        months = all_months[0:all_months.index(current_month)+1]\n",
    "    return(months)"
   ]
  },
  {
   "cell_type": "code",
   "execution_count": 30,
   "metadata": {},
   "outputs": [],
   "source": [
    "months = getPastMonths_nba(lower=True)"
   ]
  },
  {
   "cell_type": "code",
   "execution_count": 31,
   "metadata": {},
   "outputs": [
    {
     "data": {
      "text/plain": [
       "['october', 'november', 'december', 'january', 'march', 'april']"
      ]
     },
     "execution_count": 31,
     "metadata": {},
     "output_type": "execute_result"
    }
   ],
   "source": [
    "months"
   ]
  },
  {
   "cell_type": "code",
   "execution_count": 102,
   "metadata": {},
   "outputs": [
    {
     "data": {
      "text/plain": [
       "'https://www.basketball-reference.com/leagues/NBA_2020_games-october.html'"
      ]
     },
     "execution_count": 102,
     "metadata": {},
     "output_type": "execute_result"
    }
   ],
   "source": [
    "base_url = 'https://www.basketball-reference.com/leagues/NBA_2020_games-'\n",
    "end_url = '.html'\n",
    "url = base_url+months[0]+end_url\n",
    "url"
   ]
  },
  {
   "cell_type": "code",
   "execution_count": 103,
   "metadata": {},
   "outputs": [],
   "source": [
    "html = urlopen(url)\n",
    "soup = BeautifulSoup(html,\"html.parser\")"
   ]
  },
  {
   "cell_type": "code",
   "execution_count": 55,
   "metadata": {},
   "outputs": [
    {
     "data": {
      "text/plain": [
       "'Tue, Oct 22, 2019'"
      ]
     },
     "execution_count": 55,
     "metadata": {},
     "output_type": "execute_result"
    }
   ],
   "source": [
    "#testing dates\n",
    "dt = soup.find_all('th',{'data-stat':'date_game','scope':'row'})[0].text\n",
    "dt"
   ]
  },
  {
   "cell_type": "code",
   "execution_count": 93,
   "metadata": {},
   "outputs": [
    {
     "data": {
      "text/plain": [
       "'2019-10-22'"
      ]
     },
     "execution_count": 93,
     "metadata": {},
     "output_type": "execute_result"
    }
   ],
   "source": [
    "#Formating dates to be uniform. Can be converted back into datetime by datetime.datetime.strptime(dt,'%Y-%m-%d')\n",
    "datetime.datetime.strptime(dt, '%a, %b %d, %Y').strftime('%Y-%m-%d')"
   ]
  },
  {
   "cell_type": "code",
   "execution_count": 78,
   "metadata": {},
   "outputs": [
    {
     "data": {
      "text/plain": [
       "'8:00p'"
      ]
     },
     "execution_count": 78,
     "metadata": {},
     "output_type": "execute_result"
    }
   ],
   "source": [
    "#now doing tmes. \n",
    "starttime = soup.find_all('td', {'class':'right', 'data-stat':'game_start_time'})[0].text\n",
    "starttime"
   ]
  },
  {
   "cell_type": "code",
   "execution_count": 98,
   "metadata": {},
   "outputs": [
    {
     "data": {
      "text/plain": [
       "'20:00:00'"
      ]
     },
     "execution_count": 98,
     "metadata": {},
     "output_type": "execute_result"
    }
   ],
   "source": [
    "#converting to 24hr\n",
    "if starttime[-1]=='p':\n",
    "    timetail = 'PM'\n",
    "else:\n",
    "    timetail='AM'\n",
    "datetime.datetime.strptime(starttime[:-1]+timetail,'%I:%M%p').strftime('%H:%M:%S')"
   ]
  },
  {
   "cell_type": "code",
   "execution_count": 101,
   "metadata": {},
   "outputs": [
    {
     "data": {
      "text/plain": [
       "'New Orleans Pelicans'"
      ]
     },
     "execution_count": 101,
     "metadata": {},
     "output_type": "execute_result"
    }
   ],
   "source": [
    "#visiting teams\n",
    "vis_team = soup.find_all('td', {'class':'left', 'data-stat':'visitor_team_name'})[0].text\n",
    "vis_team"
   ]
  },
  {
   "cell_type": "code",
   "execution_count": 105,
   "metadata": {},
   "outputs": [
    {
     "data": {
      "text/plain": [
       "'Toronto Raptors'"
      ]
     },
     "execution_count": 105,
     "metadata": {},
     "output_type": "execute_result"
    }
   ],
   "source": [
    "#home teams\n",
    "home_team = soup.find_all('td', {'class':'left', 'data-stat':'home_team_name'})[0].text\n",
    "home_team"
   ]
  },
  {
   "cell_type": "code",
   "execution_count": 110,
   "metadata": {},
   "outputs": [
    {
     "data": {
      "text/plain": [
       "122"
      ]
     },
     "execution_count": 110,
     "metadata": {},
     "output_type": "execute_result"
    }
   ],
   "source": [
    "#visiting points \n",
    "vis_points = soup.find_all('td' ,{'class':'right', 'data-stat':'visitor_pts'})[0].text\n",
    "vis_points = int(vis_points)\n",
    "vis_points\n"
   ]
  },
  {
   "cell_type": "code",
   "execution_count": 113,
   "metadata": {},
   "outputs": [
    {
     "data": {
      "text/plain": [
       "130"
      ]
     },
     "execution_count": 113,
     "metadata": {},
     "output_type": "execute_result"
    }
   ],
   "source": [
    "#home points\n",
    "home_points = soup.find_all('td' ,{'class':'right', 'data-stat':'home_pts'})[0].text\n",
    "home_points = int(home_points)\n",
    "home_points"
   ]
  },
  {
   "cell_type": "code",
   "execution_count": 104,
   "metadata": {},
   "outputs": [
    {
     "data": {
      "text/plain": [
       "'OT'"
      ]
     },
     "execution_count": 104,
     "metadata": {},
     "output_type": "execute_result"
    }
   ],
   "source": [
    "#Overtime?\n",
    "ot = soup.find_all('td' ,{'class':'center', 'data-stat':'overtimes'})[0].text\n",
    "ot"
   ]
  },
  {
   "cell_type": "code",
   "execution_count": 132,
   "metadata": {},
   "outputs": [
    {
     "data": {
      "text/plain": [
       "20787"
      ]
     },
     "execution_count": 132,
     "metadata": {},
     "output_type": "execute_result"
    }
   ],
   "source": [
    "#Attendance\n",
    "attendance = soup.find_all('td' ,{'class':'right', 'data-stat':'attendance'})[0].text\n",
    "attendance = int(attendance.replace(',', ''))\n",
    "attendance"
   ]
  },
  {
   "cell_type": "markdown",
   "metadata": {},
   "source": [
    "# OK now i know how to get all of the variables. I'm going to make a dataframe of every game since october\n"
   ]
  },
  {
   "cell_type": "code",
   "execution_count": 118,
   "metadata": {},
   "outputs": [
    {
     "data": {
      "text/plain": [
       "['october', 'november', 'december', 'january', 'march']"
      ]
     },
     "execution_count": 118,
     "metadata": {},
     "output_type": "execute_result"
    }
   ],
   "source": [
    "months = getPastMonths_nba(lower=True)\n",
    "months = months[:-2]\n",
    "months"
   ]
  },
  {
   "cell_type": "code",
   "execution_count": 119,
   "metadata": {},
   "outputs": [
    {
     "data": {
      "text/plain": [
       "['https://www.basketball-reference.com/leagues/NBA_2020_games-october.html',\n",
       " 'https://www.basketball-reference.com/leagues/NBA_2020_games-november.html',\n",
       " 'https://www.basketball-reference.com/leagues/NBA_2020_games-december.html',\n",
       " 'https://www.basketball-reference.com/leagues/NBA_2020_games-january.html',\n",
       " 'https://www.basketball-reference.com/leagues/NBA_2020_games-march.html']"
      ]
     },
     "execution_count": 119,
     "metadata": {},
     "output_type": "execute_result"
    }
   ],
   "source": [
    "base_url = 'https://www.basketball-reference.com/leagues/NBA_2020_games-'\n",
    "end_url = '.html'\n",
    "urls = [base_url+i+end_url for i in months]\n",
    "urls"
   ]
  },
  {
   "cell_type": "code",
   "execution_count": 120,
   "metadata": {},
   "outputs": [],
   "source": [
    "#creating lists to go into dataframe\n",
    "dates = []\n",
    "starttimes = []\n",
    "visteams = []\n",
    "hometeams = []\n",
    "ots = []\n",
    "attendances = []\n",
    "vispoints = []\n",
    "homepoints = []"
   ]
  },
  {
   "cell_type": "code",
   "execution_count": 121,
   "metadata": {},
   "outputs": [],
   "source": [
    "for path in urls:\n",
    "    html = urlopen(path)\n",
    "    soup = BeautifulSoup(html,\"html.parser\")\n",
    "    #date\n",
    "    dts = soup.find_all('th',{'data-stat':'date_game','scope':'row'})\n",
    "    for dt in dts:\n",
    "        dates.append(datetime.datetime.strptime(dt.text, '%a, %b %d, %Y').strftime('%Y-%m-%d'))\n",
    "    \n",
    "    #time\n",
    "    st = soup.find_all('td', {'class':'right', 'data-stat':'game_start_time'})\n",
    "    for s in st:\n",
    "        starttime = s.text\n",
    "        if starttime[-1]=='p':\n",
    "            timetail = 'PM'\n",
    "        else:\n",
    "            timetail='AM'\n",
    "        starttimes.append(datetime.datetime.strptime(starttime[:-1]+timetail,'%I:%M%p').strftime('%H:%M:%S'))\n",
    "\n",
    "    #vis team\n",
    "    vis_team = soup.find_all('td', {'class':'left', 'data-stat':'visitor_team_name'})\n",
    "    for vt in vis_team:\n",
    "        visteams.append(vt.text)\n",
    "        \n",
    "    #home team\n",
    "    home_team = soup.find_all('td', {'class':'left', 'data-stat':'home_team_name'})\n",
    "    for ht in home_team:\n",
    "        hometeams.append(ht.text)\n",
    "        \n",
    "    #visiting points \n",
    "    vis_points = soup.find_all('td' ,{'class':'right', 'data-stat':'visitor_pts'})\n",
    "    for vp in vis_points:\n",
    "        try:\n",
    "            vispoints.append(int(vp.text))     \n",
    "        except:\n",
    "            vispoints.append(np.nan)\n",
    "\n",
    "    #home points \n",
    "    home_points = soup.find_all('td' ,{'class':'right', 'data-stat':'home_pts'})\n",
    "    for hp in home_points:\n",
    "        try:\n",
    "            homepoints.append(int(hp.text))\n",
    "        except:\n",
    "            homepoints.append(np.nan)\n",
    "        \n",
    "    #Overtime\n",
    "    o = soup.find_all('td' ,{'class':'center', 'data-stat':'overtimes'})\n",
    "    for ot in o:\n",
    "        if np.logical_and(ot.text =='',~np.isnan(homepoints[-1])):\n",
    "            otval = 0\n",
    "        elif ot.text=='OT':\n",
    "            otval =1\n",
    "        else:\n",
    "            otval = np.nan\n",
    "        ots.append(otval)\n",
    "\n",
    "    #Attendance\n",
    "    attendance = soup.find_all('td' ,{'class':'right', 'data-stat':'attendance'})\n",
    "    for a in attendance:\n",
    "        try:\n",
    "            attendances.append(int(a.text.replace(',', '')))\n",
    "        except:\n",
    "            attendances.append(np.nan)\n"
   ]
  },
  {
   "cell_type": "code",
   "execution_count": 122,
   "metadata": {},
   "outputs": [],
   "source": [
    "nba = pd.DataFrame({'date':dates,'start_time':starttimes,'vis_team':visteams,'home_team':hometeams,\n",
    "                    'vis_points':vispoints,'home_points':homepoints,'ot':ots,'attendance':attendances})"
   ]
  },
  {
   "cell_type": "code",
   "execution_count": 125,
   "metadata": {},
   "outputs": [
    {
     "data": {
      "text/html": [
       "<div>\n",
       "<style scoped>\n",
       "    .dataframe tbody tr th:only-of-type {\n",
       "        vertical-align: middle;\n",
       "    }\n",
       "\n",
       "    .dataframe tbody tr th {\n",
       "        vertical-align: top;\n",
       "    }\n",
       "\n",
       "    .dataframe thead th {\n",
       "        text-align: right;\n",
       "    }\n",
       "</style>\n",
       "<table border=\"1\" class=\"dataframe\">\n",
       "  <thead>\n",
       "    <tr style=\"text-align: right;\">\n",
       "      <th></th>\n",
       "      <th>date</th>\n",
       "      <th>start_time</th>\n",
       "      <th>vis_team</th>\n",
       "      <th>home_team</th>\n",
       "      <th>vis_points</th>\n",
       "      <th>home_points</th>\n",
       "      <th>ot</th>\n",
       "      <th>attendance</th>\n",
       "    </tr>\n",
       "  </thead>\n",
       "  <tbody>\n",
       "    <tr>\n",
       "      <th>0</th>\n",
       "      <td>2019-10-22</td>\n",
       "      <td>20:00:00</td>\n",
       "      <td>New Orleans Pelicans</td>\n",
       "      <td>Toronto Raptors</td>\n",
       "      <td>122</td>\n",
       "      <td>130</td>\n",
       "      <td>1.0</td>\n",
       "      <td>20787</td>\n",
       "    </tr>\n",
       "    <tr>\n",
       "      <th>1</th>\n",
       "      <td>2019-10-22</td>\n",
       "      <td>22:30:00</td>\n",
       "      <td>Los Angeles Lakers</td>\n",
       "      <td>Los Angeles Clippers</td>\n",
       "      <td>102</td>\n",
       "      <td>112</td>\n",
       "      <td>0.0</td>\n",
       "      <td>19068</td>\n",
       "    </tr>\n",
       "    <tr>\n",
       "      <th>2</th>\n",
       "      <td>2019-10-23</td>\n",
       "      <td>19:00:00</td>\n",
       "      <td>Chicago Bulls</td>\n",
       "      <td>Charlotte Hornets</td>\n",
       "      <td>125</td>\n",
       "      <td>126</td>\n",
       "      <td>0.0</td>\n",
       "      <td>15424</td>\n",
       "    </tr>\n",
       "    <tr>\n",
       "      <th>3</th>\n",
       "      <td>2019-10-23</td>\n",
       "      <td>19:00:00</td>\n",
       "      <td>Detroit Pistons</td>\n",
       "      <td>Indiana Pacers</td>\n",
       "      <td>119</td>\n",
       "      <td>110</td>\n",
       "      <td>0.0</td>\n",
       "      <td>17923</td>\n",
       "    </tr>\n",
       "    <tr>\n",
       "      <th>4</th>\n",
       "      <td>2019-10-23</td>\n",
       "      <td>19:00:00</td>\n",
       "      <td>Cleveland Cavaliers</td>\n",
       "      <td>Orlando Magic</td>\n",
       "      <td>85</td>\n",
       "      <td>94</td>\n",
       "      <td>0.0</td>\n",
       "      <td>18846</td>\n",
       "    </tr>\n",
       "    <tr>\n",
       "      <th>5</th>\n",
       "      <td>2019-10-23</td>\n",
       "      <td>19:30:00</td>\n",
       "      <td>Minnesota Timberwolves</td>\n",
       "      <td>Brooklyn Nets</td>\n",
       "      <td>127</td>\n",
       "      <td>126</td>\n",
       "      <td>1.0</td>\n",
       "      <td>17732</td>\n",
       "    </tr>\n",
       "    <tr>\n",
       "      <th>6</th>\n",
       "      <td>2019-10-23</td>\n",
       "      <td>19:30:00</td>\n",
       "      <td>Memphis Grizzlies</td>\n",
       "      <td>Miami Heat</td>\n",
       "      <td>101</td>\n",
       "      <td>120</td>\n",
       "      <td>0.0</td>\n",
       "      <td>19600</td>\n",
       "    </tr>\n",
       "    <tr>\n",
       "      <th>7</th>\n",
       "      <td>2019-10-23</td>\n",
       "      <td>19:30:00</td>\n",
       "      <td>Boston Celtics</td>\n",
       "      <td>Philadelphia 76ers</td>\n",
       "      <td>93</td>\n",
       "      <td>107</td>\n",
       "      <td>0.0</td>\n",
       "      <td>20422</td>\n",
       "    </tr>\n",
       "    <tr>\n",
       "      <th>8</th>\n",
       "      <td>2019-10-23</td>\n",
       "      <td>20:30:00</td>\n",
       "      <td>Washington Wizards</td>\n",
       "      <td>Dallas Mavericks</td>\n",
       "      <td>100</td>\n",
       "      <td>108</td>\n",
       "      <td>0.0</td>\n",
       "      <td>19816</td>\n",
       "    </tr>\n",
       "    <tr>\n",
       "      <th>9</th>\n",
       "      <td>2019-10-23</td>\n",
       "      <td>20:30:00</td>\n",
       "      <td>New York Knicks</td>\n",
       "      <td>San Antonio Spurs</td>\n",
       "      <td>111</td>\n",
       "      <td>120</td>\n",
       "      <td>0.0</td>\n",
       "      <td>18354</td>\n",
       "    </tr>\n",
       "  </tbody>\n",
       "</table>\n",
       "</div>"
      ],
      "text/plain": [
       "         date start_time                vis_team             home_team  \\\n",
       "0  2019-10-22   20:00:00    New Orleans Pelicans       Toronto Raptors   \n",
       "1  2019-10-22   22:30:00      Los Angeles Lakers  Los Angeles Clippers   \n",
       "2  2019-10-23   19:00:00           Chicago Bulls     Charlotte Hornets   \n",
       "3  2019-10-23   19:00:00         Detroit Pistons        Indiana Pacers   \n",
       "4  2019-10-23   19:00:00     Cleveland Cavaliers         Orlando Magic   \n",
       "5  2019-10-23   19:30:00  Minnesota Timberwolves         Brooklyn Nets   \n",
       "6  2019-10-23   19:30:00       Memphis Grizzlies            Miami Heat   \n",
       "7  2019-10-23   19:30:00          Boston Celtics    Philadelphia 76ers   \n",
       "8  2019-10-23   20:30:00      Washington Wizards      Dallas Mavericks   \n",
       "9  2019-10-23   20:30:00         New York Knicks     San Antonio Spurs   \n",
       "\n",
       "   vis_points  home_points   ot  attendance  \n",
       "0         122          130  1.0       20787  \n",
       "1         102          112  0.0       19068  \n",
       "2         125          126  0.0       15424  \n",
       "3         119          110  0.0       17923  \n",
       "4          85           94  0.0       18846  \n",
       "5         127          126  1.0       17732  \n",
       "6         101          120  0.0       19600  \n",
       "7          93          107  0.0       20422  \n",
       "8         100          108  0.0       19816  \n",
       "9         111          120  0.0       18354  "
      ]
     },
     "execution_count": 125,
     "metadata": {},
     "output_type": "execute_result"
    }
   ],
   "source": [
    "nba.head(10)"
   ]
  },
  {
   "cell_type": "code",
   "execution_count": 126,
   "metadata": {},
   "outputs": [],
   "source": [
    "nba.to_csv('nba_games_2020.csv',index=False)"
   ]
  },
  {
   "cell_type": "code",
   "execution_count": null,
   "metadata": {},
   "outputs": [],
   "source": []
  },
  {
   "cell_type": "code",
   "execution_count": null,
   "metadata": {},
   "outputs": [],
   "source": []
  }
 ],
 "metadata": {
  "kernelspec": {
   "display_name": "Python 3",
   "language": "python",
   "name": "python3"
  },
  "language_info": {
   "codemirror_mode": {
    "name": "ipython",
    "version": 3
   },
   "file_extension": ".py",
   "mimetype": "text/x-python",
   "name": "python",
   "nbconvert_exporter": "python",
   "pygments_lexer": "ipython3",
   "version": "3.7.3"
  }
 },
 "nbformat": 4,
 "nbformat_minor": 4
}
