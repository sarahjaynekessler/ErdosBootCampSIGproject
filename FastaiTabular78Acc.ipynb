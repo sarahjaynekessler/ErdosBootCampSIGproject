{
 "cells": [
  {
   "cell_type": "code",
   "execution_count": 15,
   "metadata": {},
   "outputs": [],
   "source": [
    "from fastai.tabular import * \n",
    "import pandas as pd\n",
    "import numpy as np\n",
    "\n",
    "import matplotlib.pyplot as plt\n",
    "import seaborn as sns"
   ]
  },
  {
   "cell_type": "markdown",
   "metadata": {},
   "source": [
    "# This notebook uses FastAI's tabular library to apply deep learning techniques to this tabualr data set. We have defined our target varaible, 'class', to be Over or Under 180pts. \n",
    "\n",
    "# The model (summarized that the bottom of the notebook)  first encodes the categorical varaibles and then applies two layers of batch normalization, linear, and RELU activation followed by an output linear binary layer"
   ]
  },
  {
   "cell_type": "code",
   "execution_count": 16,
   "metadata": {},
   "outputs": [
    {
     "data": {
      "text/html": [
       "<div>\n",
       "<style scoped>\n",
       "    .dataframe tbody tr th:only-of-type {\n",
       "        vertical-align: middle;\n",
       "    }\n",
       "\n",
       "    .dataframe tbody tr th {\n",
       "        vertical-align: top;\n",
       "    }\n",
       "\n",
       "    .dataframe thead th {\n",
       "        text-align: right;\n",
       "    }\n",
       "</style>\n",
       "<table border=\"1\" class=\"dataframe\">\n",
       "  <thead>\n",
       "    <tr style=\"text-align: right;\">\n",
       "      <th></th>\n",
       "      <th>date</th>\n",
       "      <th>start_time</th>\n",
       "      <th>vis_team</th>\n",
       "      <th>home_team</th>\n",
       "      <th>vis_points</th>\n",
       "      <th>home_points</th>\n",
       "      <th>ot</th>\n",
       "      <th>attendance</th>\n",
       "      <th>home_initial</th>\n",
       "      <th>vis_initial</th>\n",
       "      <th>...</th>\n",
       "      <th>hp1</th>\n",
       "      <th>hp2</th>\n",
       "      <th>hp3</th>\n",
       "      <th>hp4</th>\n",
       "      <th>hp5</th>\n",
       "      <th>vis_city</th>\n",
       "      <th>home_city</th>\n",
       "      <th>home_state</th>\n",
       "      <th>home_temp</th>\n",
       "      <th>travel_miles</th>\n",
       "    </tr>\n",
       "  </thead>\n",
       "  <tbody>\n",
       "    <tr>\n",
       "      <th>0</th>\n",
       "      <td>2019-10-22</td>\n",
       "      <td>20:00:00</td>\n",
       "      <td>New Orleans Pelicans</td>\n",
       "      <td>Toronto Raptors</td>\n",
       "      <td>122</td>\n",
       "      <td>130</td>\n",
       "      <td>1</td>\n",
       "      <td>20787</td>\n",
       "      <td>TOR</td>\n",
       "      <td>NOP</td>\n",
       "      <td>...</td>\n",
       "      <td>Kyle Lowry</td>\n",
       "      <td>Fred VanVleet</td>\n",
       "      <td>Pascal Siakam</td>\n",
       "      <td>OG Anunoby</td>\n",
       "      <td>Marc Gasol</td>\n",
       "      <td>New Orleans</td>\n",
       "      <td>Toronto</td>\n",
       "      <td>ON</td>\n",
       "      <td>57.10</td>\n",
       "      <td>1113.2</td>\n",
       "    </tr>\n",
       "    <tr>\n",
       "      <th>1</th>\n",
       "      <td>2019-10-22</td>\n",
       "      <td>22:30:00</td>\n",
       "      <td>Los Angeles Lakers</td>\n",
       "      <td>Los Angeles Clippers</td>\n",
       "      <td>102</td>\n",
       "      <td>112</td>\n",
       "      <td>0</td>\n",
       "      <td>19068</td>\n",
       "      <td>LAC</td>\n",
       "      <td>LAL</td>\n",
       "      <td>...</td>\n",
       "      <td>Kawhi Leonard</td>\n",
       "      <td>Patrick Beverley</td>\n",
       "      <td>Landry Shamet</td>\n",
       "      <td>Patrick Patterson</td>\n",
       "      <td>Ivica Zubac</td>\n",
       "      <td>Los Angeles</td>\n",
       "      <td>Los Angeles</td>\n",
       "      <td>CA</td>\n",
       "      <td>76.54</td>\n",
       "      <td>0.0</td>\n",
       "    </tr>\n",
       "    <tr>\n",
       "      <th>2</th>\n",
       "      <td>2019-10-23</td>\n",
       "      <td>19:00:00</td>\n",
       "      <td>Chicago Bulls</td>\n",
       "      <td>Charlotte Hornets</td>\n",
       "      <td>125</td>\n",
       "      <td>126</td>\n",
       "      <td>0</td>\n",
       "      <td>15424</td>\n",
       "      <td>CHO</td>\n",
       "      <td>CHI</td>\n",
       "      <td>...</td>\n",
       "      <td>P.J. Washington</td>\n",
       "      <td>Cody Zeller</td>\n",
       "      <td>Dwayne Bacon</td>\n",
       "      <td>Miles Bridges</td>\n",
       "      <td>Terry Rozier</td>\n",
       "      <td>Chicago</td>\n",
       "      <td>Charlotte</td>\n",
       "      <td>NC</td>\n",
       "      <td>57.13</td>\n",
       "      <td>587.1</td>\n",
       "    </tr>\n",
       "    <tr>\n",
       "      <th>3</th>\n",
       "      <td>2019-10-23</td>\n",
       "      <td>19:00:00</td>\n",
       "      <td>Detroit Pistons</td>\n",
       "      <td>Indiana Pacers</td>\n",
       "      <td>119</td>\n",
       "      <td>110</td>\n",
       "      <td>0</td>\n",
       "      <td>17923</td>\n",
       "      <td>IND</td>\n",
       "      <td>DET</td>\n",
       "      <td>...</td>\n",
       "      <td>Myles Turner</td>\n",
       "      <td>Malcolm Brogdon</td>\n",
       "      <td>Domantas Sabonis</td>\n",
       "      <td>T.J. Warren</td>\n",
       "      <td>Jeremy Lamb</td>\n",
       "      <td>Detroit</td>\n",
       "      <td>Indianapolis</td>\n",
       "      <td>IA</td>\n",
       "      <td>42.54</td>\n",
       "      <td>488.3</td>\n",
       "    </tr>\n",
       "    <tr>\n",
       "      <th>4</th>\n",
       "      <td>2019-10-23</td>\n",
       "      <td>19:00:00</td>\n",
       "      <td>Cleveland Cavaliers</td>\n",
       "      <td>Orlando Magic</td>\n",
       "      <td>85</td>\n",
       "      <td>94</td>\n",
       "      <td>0</td>\n",
       "      <td>18846</td>\n",
       "      <td>ORL</td>\n",
       "      <td>CLE</td>\n",
       "      <td>...</td>\n",
       "      <td>Nikola Vučević</td>\n",
       "      <td>Aaron Gordon</td>\n",
       "      <td>Evan Fournier</td>\n",
       "      <td>D.J. Augustin</td>\n",
       "      <td>Jonathan Isaac</td>\n",
       "      <td>Cleveland</td>\n",
       "      <td>Orlando</td>\n",
       "      <td>FL</td>\n",
       "      <td>76.45</td>\n",
       "      <td>893.8</td>\n",
       "    </tr>\n",
       "  </tbody>\n",
       "</table>\n",
       "<p>5 rows × 47 columns</p>\n",
       "</div>"
      ],
      "text/plain": [
       "         date start_time              vis_team             home_team  \\\n",
       "0  2019-10-22   20:00:00  New Orleans Pelicans       Toronto Raptors   \n",
       "1  2019-10-22   22:30:00    Los Angeles Lakers  Los Angeles Clippers   \n",
       "2  2019-10-23   19:00:00         Chicago Bulls     Charlotte Hornets   \n",
       "3  2019-10-23   19:00:00       Detroit Pistons        Indiana Pacers   \n",
       "4  2019-10-23   19:00:00   Cleveland Cavaliers         Orlando Magic   \n",
       "\n",
       "   vis_points  home_points  ot  attendance home_initial vis_initial  ...  \\\n",
       "0         122          130   1       20787          TOR         NOP  ...   \n",
       "1         102          112   0       19068          LAC         LAL  ...   \n",
       "2         125          126   0       15424          CHO         CHI  ...   \n",
       "3         119          110   0       17923          IND         DET  ...   \n",
       "4          85           94   0       18846          ORL         CLE  ...   \n",
       "\n",
       "               hp1               hp2               hp3                hp4  \\\n",
       "0       Kyle Lowry     Fred VanVleet     Pascal Siakam         OG Anunoby   \n",
       "1    Kawhi Leonard  Patrick Beverley     Landry Shamet  Patrick Patterson   \n",
       "2  P.J. Washington       Cody Zeller      Dwayne Bacon      Miles Bridges   \n",
       "3     Myles Turner   Malcolm Brogdon  Domantas Sabonis        T.J. Warren   \n",
       "4   Nikola Vučević      Aaron Gordon     Evan Fournier      D.J. Augustin   \n",
       "\n",
       "              hp5     vis_city     home_city  home_state  home_temp  \\\n",
       "0      Marc Gasol  New Orleans       Toronto          ON      57.10   \n",
       "1     Ivica Zubac  Los Angeles   Los Angeles          CA      76.54   \n",
       "2    Terry Rozier      Chicago     Charlotte          NC      57.13   \n",
       "3     Jeremy Lamb      Detroit  Indianapolis          IA      42.54   \n",
       "4  Jonathan Isaac    Cleveland       Orlando          FL      76.45   \n",
       "\n",
       "   travel_miles  \n",
       "0        1113.2  \n",
       "1           0.0  \n",
       "2         587.1  \n",
       "3         488.3  \n",
       "4         893.8  \n",
       "\n",
       "[5 rows x 47 columns]"
      ]
     },
     "execution_count": 16,
     "metadata": {},
     "output_type": "execute_result"
    }
   ],
   "source": [
    "path = './'\n",
    "df = pd.read_csv(path+'nbafull.csv')\n",
    "df.head()"
   ]
  },
  {
   "cell_type": "code",
   "execution_count": 17,
   "metadata": {},
   "outputs": [
    {
     "data": {
      "text/plain": [
       "Index(['date', 'start_time', 'vis_team', 'home_team', 'vis_points',\n",
       "       'home_points', 'ot', 'attendance', 'home_initial', 'vis_initial',\n",
       "       'home_players', 'home_bench', 'vis_players', 'vis_bench', 'referees',\n",
       "       'score_starter_home', 'score_bench_home', 'score_starter_vis',\n",
       "       'score_bench_vis', 'recovery_time', 'perform', 'def_perf_home',\n",
       "       'off_perf_home', 'def_perf_vis', 'off_perf_vis', 'total_score', 'class',\n",
       "       'frac_season', 'day_hour', 'ref1', 'ref2', 'ref3', 'vp1', 'vp2', 'vp3',\n",
       "       'vp4', 'vp5', 'hp1', 'hp2', 'hp3', 'hp4', 'hp5', 'vis_city',\n",
       "       'home_city', 'home_state', 'home_temp', 'travel_miles'],\n",
       "      dtype='object')"
      ]
     },
     "execution_count": 17,
     "metadata": {},
     "output_type": "execute_result"
    }
   ],
   "source": [
    "df.columns"
   ]
  },
  {
   "cell_type": "code",
   "execution_count": 18,
   "metadata": {},
   "outputs": [
    {
     "data": {
      "text/plain": [
       "Index(['attendance', 'home_initial', 'vis_initial', 'score_starter_home',\n",
       "       'score_bench_home', 'score_starter_vis', 'score_bench_vis',\n",
       "       'recovery_time', 'perform', 'def_perf_home', 'off_perf_home',\n",
       "       'def_perf_vis', 'off_perf_vis', 'class', 'frac_season', 'day_hour',\n",
       "       'ref1', 'ref2', 'ref3', 'home_temp', 'travel_miles'],\n",
       "      dtype='object')"
      ]
     },
     "execution_count": 18,
     "metadata": {},
     "output_type": "execute_result"
    }
   ],
   "source": [
    "df = df.drop(columns=['date', 'start_time','vis_points','home_points', 'ot','home_players', 'home_bench',\n",
    "                 'vis_players', 'vis_bench', 'referees','total_score',\n",
    "                'vis_city','home_city', 'home_state', 'vp1', 'vp2', 'vp3', 'vp4', 'vp5',\n",
    "       'hp1', 'hp2', 'hp3', 'hp4', 'hp5','vis_team', 'home_team']) #dropping redundant columns\n",
    "df.columns"
   ]
  },
  {
   "cell_type": "markdown",
   "metadata": {},
   "source": [
    "# After dropping redundant columns I declare the procedures and create a test and valid set"
   ]
  },
  {
   "cell_type": "code",
   "execution_count": 19,
   "metadata": {},
   "outputs": [],
   "source": [
    "procs = [FillMissing, Categorify, Normalize]"
   ]
  },
  {
   "cell_type": "code",
   "execution_count": 20,
   "metadata": {},
   "outputs": [],
   "source": [
    "valid_idx = range(len(df)-int(0.3*len(df)), len(df))"
   ]
  },
  {
   "cell_type": "markdown",
   "metadata": {},
   "source": [
    "# Here I declare the dependent varaivle and the categorical columns. The TabularDataBunch automatically sets the other columns to numerical columns and normallizes the data"
   ]
  },
  {
   "cell_type": "code",
   "execution_count": 21,
   "metadata": {},
   "outputs": [],
   "source": [
    "dep_var = 'class'\n",
    "cat_vars = df.columns[[df[i].dtype=='O' for i in df.columns]].tolist()"
   ]
  },
  {
   "cell_type": "code",
   "execution_count": 22,
   "metadata": {},
   "outputs": [
    {
     "name": "stdout",
     "output_type": "stream",
     "text": [
      "['home_temp', 'perform', 'day_hour', 'travel_miles', 'score_bench_home', 'frac_season', 'score_bench_vis', 'off_perf_home', 'def_perf_home', 'def_perf_vis', 'score_starter_home', 'off_perf_vis', 'score_starter_vis', 'recovery_time', 'attendance']\n"
     ]
    }
   ],
   "source": [
    "data = TabularDataBunch.from_df(path, df, dep_var, valid_idx=valid_idx, procs=procs,cat_names=cat_vars)\n",
    "print(data.train_ds.cont_names)\n"
   ]
  },
  {
   "cell_type": "markdown",
   "metadata": {},
   "source": [
    "# This creates the model. The layers I just copied from thier tutorial. Then I find the ideal learning rate and run the model for 3 cycles. I tried for as many as 10 but the model overfit after ~3 (the train loss went down while test went up)"
   ]
  },
  {
   "cell_type": "code",
   "execution_count": 23,
   "metadata": {},
   "outputs": [],
   "source": [
    "learn = tabular_learner(data, layers=[200,100], metrics=accuracy, emb_drop=0.1, callback_fns=ShowGraph)\n"
   ]
  },
  {
   "cell_type": "code",
   "execution_count": 24,
   "metadata": {},
   "outputs": [
    {
     "data": {
      "text/html": [
       "\n",
       "    <div>\n",
       "        <style>\n",
       "            /* Turns off some styling */\n",
       "            progress {\n",
       "                /* gets rid of default border in Firefox and Opera. */\n",
       "                border: none;\n",
       "                /* Needs to be in here for Safari polyfill so background images work as expected. */\n",
       "                background-size: auto;\n",
       "            }\n",
       "            .progress-bar-interrupted, .progress-bar-interrupted::-webkit-progress-bar {\n",
       "                background: #F44336;\n",
       "            }\n",
       "        </style>\n",
       "      <progress value='9' class='' max='10', style='width:300px; height:20px; vertical-align: middle;'></progress>\n",
       "      90.00% [9/10 00:01<00:00]\n",
       "    </div>\n",
       "    \n",
       "<table border=\"1\" class=\"dataframe\">\n",
       "  <thead>\n",
       "    <tr style=\"text-align: left;\">\n",
       "      <th>epoch</th>\n",
       "      <th>train_loss</th>\n",
       "      <th>valid_loss</th>\n",
       "      <th>accuracy</th>\n",
       "      <th>time</th>\n",
       "    </tr>\n",
       "  </thead>\n",
       "  <tbody>\n",
       "    <tr>\n",
       "      <td>0</td>\n",
       "      <td>0.838128</td>\n",
       "      <td>#na#</td>\n",
       "      <td>00:00</td>\n",
       "    </tr>\n",
       "    <tr>\n",
       "      <td>1</td>\n",
       "      <td>0.838819</td>\n",
       "      <td>#na#</td>\n",
       "      <td>00:00</td>\n",
       "    </tr>\n",
       "    <tr>\n",
       "      <td>2</td>\n",
       "      <td>0.838848</td>\n",
       "      <td>#na#</td>\n",
       "      <td>00:00</td>\n",
       "    </tr>\n",
       "    <tr>\n",
       "      <td>3</td>\n",
       "      <td>0.822618</td>\n",
       "      <td>#na#</td>\n",
       "      <td>00:00</td>\n",
       "    </tr>\n",
       "    <tr>\n",
       "      <td>4</td>\n",
       "      <td>0.774759</td>\n",
       "      <td>#na#</td>\n",
       "      <td>00:00</td>\n",
       "    </tr>\n",
       "    <tr>\n",
       "      <td>5</td>\n",
       "      <td>0.718285</td>\n",
       "      <td>#na#</td>\n",
       "      <td>00:00</td>\n",
       "    </tr>\n",
       "    <tr>\n",
       "      <td>6</td>\n",
       "      <td>0.666526</td>\n",
       "      <td>#na#</td>\n",
       "      <td>00:00</td>\n",
       "    </tr>\n",
       "    <tr>\n",
       "      <td>7</td>\n",
       "      <td>0.648118</td>\n",
       "      <td>#na#</td>\n",
       "      <td>00:00</td>\n",
       "    </tr>\n",
       "    <tr>\n",
       "      <td>8</td>\n",
       "      <td>0.914848</td>\n",
       "      <td>#na#</td>\n",
       "      <td>00:00</td>\n",
       "    </tr>\n",
       "  </tbody>\n",
       "</table><p>\n",
       "\n",
       "    <div>\n",
       "        <style>\n",
       "            /* Turns off some styling */\n",
       "            progress {\n",
       "                /* gets rid of default border in Firefox and Opera. */\n",
       "                border: none;\n",
       "                /* Needs to be in here for Safari polyfill so background images work as expected. */\n",
       "                background-size: auto;\n",
       "            }\n",
       "            .progress-bar-interrupted, .progress-bar-interrupted::-webkit-progress-bar {\n",
       "                background: #F44336;\n",
       "            }\n",
       "        </style>\n",
       "      <progress value='2' class='' max='10', style='width:300px; height:20px; vertical-align: middle;'></progress>\n",
       "      20.00% [2/10 00:00<00:00 1.5858]\n",
       "    </div>\n",
       "    "
      ],
      "text/plain": [
       "<IPython.core.display.HTML object>"
      ]
     },
     "metadata": {},
     "output_type": "display_data"
    },
    {
     "name": "stdout",
     "output_type": "stream",
     "text": [
      "LR Finder is complete, type {learner_name}.recorder.plot() to see the graph.\n",
      "Min numerical gradient: 1.00E-03\n",
      "Min loss divided by 10: 8.32E-03\n"
     ]
    },
    {
     "data": {
      "image/png": "[encoded data removed]",
      "text/plain": [
       "<Figure size 432x288 with 1 Axes>"
      ]
     },
     "metadata": {
      "needs_background": "light"
     },
     "output_type": "display_data"
    }
   ],
   "source": [
    "learn.lr_find()\n",
    "learn.recorder.plot(suggestion=True)\n",
    "min_grad_lr = learn.recorder.min_grad_lr\n"
   ]
  },
  {
   "cell_type": "code",
   "execution_count": 25,
   "metadata": {},
   "outputs": [
    {
     "data": {
      "text/html": [
       "<table border=\"1\" class=\"dataframe\">\n",
       "  <thead>\n",
       "    <tr style=\"text-align: left;\">\n",
       "      <th>epoch</th>\n",
       "      <th>train_loss</th>\n",
       "      <th>valid_loss</th>\n",
       "      <th>accuracy</th>\n",
       "      <th>time</th>\n",
       "    </tr>\n",
       "  </thead>\n",
       "  <tbody>\n",
       "    <tr>\n",
       "      <td>0</td>\n",
       "      <td>0.744727</td>\n",
       "      <td>0.667692</td>\n",
       "      <td>0.663230</td>\n",
       "      <td>00:00</td>\n",
       "    </tr>\n",
       "    <tr>\n",
       "      <td>1</td>\n",
       "      <td>0.623512</td>\n",
       "      <td>0.569301</td>\n",
       "      <td>0.780069</td>\n",
       "      <td>00:00</td>\n",
       "    </tr>\n",
       "    <tr>\n",
       "      <td>2</td>\n",
       "      <td>0.566283</td>\n",
       "      <td>0.519170</td>\n",
       "      <td>0.780069</td>\n",
       "      <td>00:00</td>\n",
       "    </tr>\n",
       "  </tbody>\n",
       "</table>"
      ],
      "text/plain": [
       "<IPython.core.display.HTML object>"
      ]
     },
     "metadata": {},
     "output_type": "display_data"
    },
    {
     "data": {
      "image/png": "[encoded data removed]",
      "text/plain": [
       "<Figure size 432x288 with 1 Axes>"
      ]
     },
     "metadata": {},
     "output_type": "display_data"
    }
   ],
   "source": [
    "learn.fit_one_cycle(3, min_grad_lr) #We choose 3 cycles because over that the model began to overfit"
   ]
  },
  {
   "cell_type": "code",
   "execution_count": 26,
   "metadata": {},
   "outputs": [
    {
     "data": {
      "image/png": "[encoded data removed]",
      "text/plain": [
       "<Figure size 432x288 with 1 Axes>"
      ]
     },
     "metadata": {
      "needs_background": "light"
     },
     "output_type": "display_data"
    }
   ],
   "source": [
    "learn.model #~78% accuracy in almost no time!\n",
    "learn.recorder.plot_losses()"
   ]
  },
  {
   "cell_type": "code",
   "execution_count": 27,
   "metadata": {},
   "outputs": [],
   "source": [
    "learn.save('fastai78acc')"
   ]
  },
  {
   "cell_type": "code",
   "execution_count": 28,
   "metadata": {},
   "outputs": [
    {
     "data": {
      "text/plain": [
       "(Category 0, tensor(0), tensor([0.6361, 0.3639]))"
      ]
     },
     "execution_count": 28,
     "metadata": {},
     "output_type": "execute_result"
    }
   ],
   "source": [
    "learn.predict(df.iloc[0])"
   ]
  },
  {
   "cell_type": "code",
   "execution_count": 29,
   "metadata": {},
   "outputs": [
    {
     "data": {
      "text/html": [],
      "text/plain": [
       "<IPython.core.display.HTML object>"
      ]
     },
     "metadata": {},
     "output_type": "display_data"
    }
   ],
   "source": [
    "interp = ClassificationInterpretation.from_learner(learn)"
   ]
  },
  {
   "cell_type": "code",
   "execution_count": 30,
   "metadata": {},
   "outputs": [
    {
     "data": {
      "image/png": "[encoded data removed]",
      "text/plain": [
       "<Figure size 432x288 with 1 Axes>"
      ]
     },
     "metadata": {
      "needs_background": "light"
     },
     "output_type": "display_data"
    }
   ],
   "source": [
    "interp.plot_confusion_matrix(cmap='Greens')"
   ]
  },
  {
   "cell_type": "code",
   "execution_count": 31,
   "metadata": {},
   "outputs": [
    {
     "data": {
      "text/html": [
       "<div>\n",
       "<style scoped>\n",
       "    .dataframe tbody tr th:only-of-type {\n",
       "        vertical-align: middle;\n",
       "    }\n",
       "\n",
       "    .dataframe tbody tr th {\n",
       "        vertical-align: top;\n",
       "    }\n",
       "\n",
       "    .dataframe thead tr th {\n",
       "        text-align: left;\n",
       "    }\n",
       "</style>\n",
       "<table border=\"1\" class=\"dataframe\">\n",
       "  <thead>\n",
       "    <tr>\n",
       "      <th></th>\n",
       "      <th>Prediction</th>\n",
       "      <th>Actual</th>\n",
       "      <th>Loss</th>\n",
       "      <th>Probability</th>\n",
       "      <th>home_initial</th>\n",
       "      <th>vis_initial</th>\n",
       "      <th>ref1</th>\n",
       "      <th>ref2</th>\n",
       "      <th>ref3</th>\n",
       "      <th>home_temp_na</th>\n",
       "      <th>...</th>\n",
       "      <th>frac_season</th>\n",
       "      <th>score_bench_vis</th>\n",
       "      <th>off_perf_home</th>\n",
       "      <th>def_perf_home</th>\n",
       "      <th>def_perf_vis</th>\n",
       "      <th>score_starter_home</th>\n",
       "      <th>off_perf_vis</th>\n",
       "      <th>score_starter_vis</th>\n",
       "      <th>recovery_time</th>\n",
       "      <th>attendance</th>\n",
       "    </tr>\n",
       "  </thead>\n",
       "  <tbody>\n",
       "    <tr>\n",
       "      <th>0</th>\n",
       "      <td>0</td>\n",
       "      <td>1</td>\n",
       "      <td>3.91</td>\n",
       "      <td>0.02</td>\n",
       "      <td>DET</td>\n",
       "      <td>MIL</td>\n",
       "      <td>Barnaky</td>\n",
       "      <td>Dalen</td>\n",
       "      <td>Mott</td>\n",
       "      <td>False</td>\n",
       "      <td>...</td>\n",
       "      <td>2.6771</td>\n",
       "      <td>0.2837</td>\n",
       "      <td>-2.9068</td>\n",
       "      <td>-0.9196</td>\n",
       "      <td>-0.7292</td>\n",
       "      <td>-1.9168</td>\n",
       "      <td>0.9101</td>\n",
       "      <td>1.3448</td>\n",
       "      <td>11.3894</td>\n",
       "      <td>-0.8404</td>\n",
       "    </tr>\n",
       "    <tr>\n",
       "      <th>1</th>\n",
       "      <td>0</td>\n",
       "      <td>1</td>\n",
       "      <td>2.54</td>\n",
       "      <td>0.08</td>\n",
       "      <td>WAS</td>\n",
       "      <td>CLE</td>\n",
       "      <td>Forte</td>\n",
       "      <td>Lane</td>\n",
       "      <td>Twardoski</td>\n",
       "      <td>False</td>\n",
       "      <td>...</td>\n",
       "      <td>2.7135</td>\n",
       "      <td>-2.0756</td>\n",
       "      <td>-0.1135</td>\n",
       "      <td>0.2028</td>\n",
       "      <td>-0.8182</td>\n",
       "      <td>-0.2310</td>\n",
       "      <td>0.1281</td>\n",
       "      <td>0.8867</td>\n",
       "      <td>13.3174</td>\n",
       "      <td>0.5869</td>\n",
       "    </tr>\n",
       "    <tr>\n",
       "      <th>2</th>\n",
       "      <td>1</td>\n",
       "      <td>0</td>\n",
       "      <td>1.83</td>\n",
       "      <td>0.16</td>\n",
       "      <td>ATL</td>\n",
       "      <td>MEM</td>\n",
       "      <td>Guthrie</td>\n",
       "      <td>Kogut</td>\n",
       "      <td>Scott</td>\n",
       "      <td>False</td>\n",
       "      <td>...</td>\n",
       "      <td>3.0775</td>\n",
       "      <td>-0.7399</td>\n",
       "      <td>1.0701</td>\n",
       "      <td>1.5049</td>\n",
       "      <td>0.7394</td>\n",
       "      <td>0.9101</td>\n",
       "      <td>0.3581</td>\n",
       "      <td>-0.6563</td>\n",
       "      <td>-0.1786</td>\n",
       "      <td>-0.7843</td>\n",
       "    </tr>\n",
       "    <tr>\n",
       "      <th>3</th>\n",
       "      <td>1</td>\n",
       "      <td>0</td>\n",
       "      <td>1.71</td>\n",
       "      <td>0.18</td>\n",
       "      <td>NYK</td>\n",
       "      <td>UTA</td>\n",
       "      <td>#na#</td>\n",
       "      <td>Smith</td>\n",
       "      <td>Wright</td>\n",
       "      <td>False</td>\n",
       "      <td>...</td>\n",
       "      <td>3.1503</td>\n",
       "      <td>-0.3113</td>\n",
       "      <td>0.8807</td>\n",
       "      <td>0.9661</td>\n",
       "      <td>0.0274</td>\n",
       "      <td>-1.1243</td>\n",
       "      <td>1.5082</td>\n",
       "      <td>0.8960</td>\n",
       "      <td>-0.1786</td>\n",
       "      <td>-0.5899</td>\n",
       "    </tr>\n",
       "    <tr>\n",
       "      <th>4</th>\n",
       "      <td>1</td>\n",
       "      <td>0</td>\n",
       "      <td>1.64</td>\n",
       "      <td>0.19</td>\n",
       "      <td>ATL</td>\n",
       "      <td>DAL</td>\n",
       "      <td>Collins</td>\n",
       "      <td>Mott</td>\n",
       "      <td>Myers</td>\n",
       "      <td>False</td>\n",
       "      <td>...</td>\n",
       "      <td>2.7499</td>\n",
       "      <td>-1.2242</td>\n",
       "      <td>2.1117</td>\n",
       "      <td>1.6844</td>\n",
       "      <td>-0.8182</td>\n",
       "      <td>0.8851</td>\n",
       "      <td>0.7721</td>\n",
       "      <td>-2.6582</td>\n",
       "      <td>-1.1426</td>\n",
       "      <td>-0.3542</td>\n",
       "    </tr>\n",
       "    <tr>\n",
       "      <th>5</th>\n",
       "      <td>1</td>\n",
       "      <td>0</td>\n",
       "      <td>1.58</td>\n",
       "      <td>0.21</td>\n",
       "      <td>NOP</td>\n",
       "      <td>MIA</td>\n",
       "      <td>Boland</td>\n",
       "      <td>Kennedy</td>\n",
       "      <td>Williams</td>\n",
       "      <td>False</td>\n",
       "      <td>...</td>\n",
       "      <td>3.2231</td>\n",
       "      <td>1.2235</td>\n",
       "      <td>1.0701</td>\n",
       "      <td>1.6395</td>\n",
       "      <td>1.2734</td>\n",
       "      <td>1.6576</td>\n",
       "      <td>0.8641</td>\n",
       "      <td>-0.3569</td>\n",
       "      <td>-0.1786</td>\n",
       "      <td>0.3263</td>\n",
       "    </tr>\n",
       "    <tr>\n",
       "      <th>6</th>\n",
       "      <td>1</td>\n",
       "      <td>0</td>\n",
       "      <td>1.56</td>\n",
       "      <td>0.21</td>\n",
       "      <td>BRK</td>\n",
       "      <td>PHO</td>\n",
       "      <td>Fitzgerald</td>\n",
       "      <td>Lane</td>\n",
       "      <td>Wood</td>\n",
       "      <td>False</td>\n",
       "      <td>...</td>\n",
       "      <td>2.0582</td>\n",
       "      <td>-1.2934</td>\n",
       "      <td>1.9696</td>\n",
       "      <td>0.0681</td>\n",
       "      <td>0.7394</td>\n",
       "      <td>-0.5213</td>\n",
       "      <td>0.4501</td>\n",
       "      <td>-0.2252</td>\n",
       "      <td>-1.1426</td>\n",
       "      <td>-1.4556</td>\n",
       "    </tr>\n",
       "    <tr>\n",
       "      <th>7</th>\n",
       "      <td>1</td>\n",
       "      <td>0</td>\n",
       "      <td>1.51</td>\n",
       "      <td>0.22</td>\n",
       "      <td>BRK</td>\n",
       "      <td>GSW</td>\n",
       "      <td>Dalen</td>\n",
       "      <td>Guthrie</td>\n",
       "      <td>Williams</td>\n",
       "      <td>False</td>\n",
       "      <td>...</td>\n",
       "      <td>2.1310</td>\n",
       "      <td>-0.7233</td>\n",
       "      <td>2.1590</td>\n",
       "      <td>-1.1441</td>\n",
       "      <td>1.0064</td>\n",
       "      <td>-0.5213</td>\n",
       "      <td>0.7261</td>\n",
       "      <td>-0.2106</td>\n",
       "      <td>-0.1786</td>\n",
       "      <td>-1.7306</td>\n",
       "    </tr>\n",
       "    <tr>\n",
       "      <th>8</th>\n",
       "      <td>1</td>\n",
       "      <td>0</td>\n",
       "      <td>1.49</td>\n",
       "      <td>0.23</td>\n",
       "      <td>NYK</td>\n",
       "      <td>WAS</td>\n",
       "      <td>Green</td>\n",
       "      <td>Kogut</td>\n",
       "      <td>Zarba</td>\n",
       "      <td>False</td>\n",
       "      <td>...</td>\n",
       "      <td>2.3858</td>\n",
       "      <td>0.0587</td>\n",
       "      <td>-1.3444</td>\n",
       "      <td>0.6967</td>\n",
       "      <td>2.8310</td>\n",
       "      <td>-0.9315</td>\n",
       "      <td>2.2902</td>\n",
       "      <td>-0.2661</td>\n",
       "      <td>-0.1786</td>\n",
       "      <td>0.5563</td>\n",
       "    </tr>\n",
       "    <tr>\n",
       "      <th>9</th>\n",
       "      <td>1</td>\n",
       "      <td>0</td>\n",
       "      <td>1.46</td>\n",
       "      <td>0.23</td>\n",
       "      <td>MIL</td>\n",
       "      <td>OKC</td>\n",
       "      <td>Acosta</td>\n",
       "      <td>Goble</td>\n",
       "      <td>Maddox</td>\n",
       "      <td>False</td>\n",
       "      <td>...</td>\n",
       "      <td>2.9683</td>\n",
       "      <td>-0.2570</td>\n",
       "      <td>1.8750</td>\n",
       "      <td>-1.5033</td>\n",
       "      <td>1.6739</td>\n",
       "      <td>0.3204</td>\n",
       "      <td>0.2201</td>\n",
       "      <td>-0.8083</td>\n",
       "      <td>-0.1786</td>\n",
       "      <td>0.3406</td>\n",
       "    </tr>\n",
       "  </tbody>\n",
       "</table>\n",
       "<p>10 rows × 31 columns</p>\n",
       "</div>"
      ],
      "text/plain": [
       "  Prediction Actual  Loss Probability home_initial vis_initial        ref1  \\\n",
       "0          0      1  3.91        0.02          DET         MIL     Barnaky   \n",
       "1          0      1  2.54        0.08          WAS         CLE       Forte   \n",
       "2          1      0  1.83        0.16          ATL         MEM     Guthrie   \n",
       "3          1      0  1.71        0.18          NYK         UTA        #na#   \n",
       "4          1      0  1.64        0.19          ATL         DAL     Collins   \n",
       "5          1      0  1.58        0.21          NOP         MIA      Boland   \n",
       "6          1      0  1.56        0.21          BRK         PHO  Fitzgerald   \n",
       "7          1      0  1.51        0.22          BRK         GSW       Dalen   \n",
       "8          1      0  1.49        0.23          NYK         WAS       Green   \n",
       "9          1      0  1.46        0.23          MIL         OKC      Acosta   \n",
       "\n",
       "      ref2       ref3 home_temp_na  ... frac_season score_bench_vis  \\\n",
       "0    Dalen       Mott        False  ...      2.6771          0.2837   \n",
       "1     Lane  Twardoski        False  ...      2.7135         -2.0756   \n",
       "2    Kogut      Scott        False  ...      3.0775         -0.7399   \n",
       "3    Smith     Wright        False  ...      3.1503         -0.3113   \n",
       "4     Mott      Myers        False  ...      2.7499         -1.2242   \n",
       "5  Kennedy   Williams        False  ...      3.2231          1.2235   \n",
       "6     Lane       Wood        False  ...      2.0582         -1.2934   \n",
       "7  Guthrie   Williams        False  ...      2.1310         -0.7233   \n",
       "8    Kogut      Zarba        False  ...      2.3858          0.0587   \n",
       "9    Goble     Maddox        False  ...      2.9683         -0.2570   \n",
       "\n",
       "  off_perf_home def_perf_home def_perf_vis score_starter_home off_perf_vis  \\\n",
       "0       -2.9068       -0.9196      -0.7292            -1.9168       0.9101   \n",
       "1       -0.1135        0.2028      -0.8182            -0.2310       0.1281   \n",
       "2        1.0701        1.5049       0.7394             0.9101       0.3581   \n",
       "3        0.8807        0.9661       0.0274            -1.1243       1.5082   \n",
       "4        2.1117        1.6844      -0.8182             0.8851       0.7721   \n",
       "5        1.0701        1.6395       1.2734             1.6576       0.8641   \n",
       "6        1.9696        0.0681       0.7394            -0.5213       0.4501   \n",
       "7        2.1590       -1.1441       1.0064            -0.5213       0.7261   \n",
       "8       -1.3444        0.6967       2.8310            -0.9315       2.2902   \n",
       "9        1.8750       -1.5033       1.6739             0.3204       0.2201   \n",
       "\n",
       "  score_starter_vis recovery_time attendance  \n",
       "0            1.3448       11.3894    -0.8404  \n",
       "1            0.8867       13.3174     0.5869  \n",
       "2           -0.6563       -0.1786    -0.7843  \n",
       "3            0.8960       -0.1786    -0.5899  \n",
       "4           -2.6582       -1.1426    -0.3542  \n",
       "5           -0.3569       -0.1786     0.3263  \n",
       "6           -0.2252       -1.1426    -1.4556  \n",
       "7           -0.2106       -0.1786    -1.7306  \n",
       "8           -0.2661       -0.1786     0.5563  \n",
       "9           -0.8083       -0.1786     0.3406  \n",
       "\n",
       "[10 rows x 31 columns]"
      ]
     },
     "metadata": {},
     "output_type": "display_data"
    }
   ],
   "source": [
    "#These are the ones it got SUPER wrong\n",
    "interp.plot_tab_top_losses(10)"
   ]
  },
  {
   "cell_type": "code",
   "execution_count": 32,
   "metadata": {},
   "outputs": [
    {
     "data": {
      "text/plain": [
       "TabularModel\n",
       "======================================================================\n",
       "Layer (type)         Output Shape         Param #    Trainable \n",
       "======================================================================\n",
       "Embedding            [11]                 341        True      \n",
       "______________________________________________________________________\n",
       "Embedding            [11]                 341        True      \n",
       "______________________________________________________________________\n",
       "Embedding            [17]                 1,105      True      \n",
       "______________________________________________________________________\n",
       "Embedding            [18]                 1,314      True      \n",
       "______________________________________________________________________\n",
       "Embedding            [16]                 1,024      True      \n",
       "______________________________________________________________________\n",
       "Embedding            [3]                  9          True      \n",
       "______________________________________________________________________\n",
       "Embedding            [3]                  9          True      \n",
       "______________________________________________________________________\n",
       "Embedding            [3]                  9          True      \n",
       "______________________________________________________________________\n",
       "Embedding            [3]                  9          True      \n",
       "______________________________________________________________________\n",
       "Embedding            [3]                  9          True      \n",
       "______________________________________________________________________\n",
       "Embedding            [3]                  9          True      \n",
       "______________________________________________________________________\n",
       "Embedding            [3]                  9          True      \n",
       "______________________________________________________________________\n",
       "Dropout              [94]                 0          False     \n",
       "______________________________________________________________________\n",
       "BatchNorm1d          [15]                 30         True      \n",
       "______________________________________________________________________\n",
       "Linear               [200]                22,000     True      \n",
       "______________________________________________________________________\n",
       "ReLU                 [200]                0          False     \n",
       "______________________________________________________________________\n",
       "BatchNorm1d          [200]                400        True      \n",
       "______________________________________________________________________\n",
       "Linear               [100]                20,100     True      \n",
       "______________________________________________________________________\n",
       "ReLU                 [100]                0          False     \n",
       "______________________________________________________________________\n",
       "BatchNorm1d          [100]                200        True      \n",
       "______________________________________________________________________\n",
       "Linear               [2]                  202        True      \n",
       "______________________________________________________________________\n",
       "\n",
       "Total params: 47,120\n",
       "Total trainable params: 47,120\n",
       "Total non-trainable params: 0\n",
       "Optimized with 'torch.optim.adam.Adam', betas=(0.9, 0.99)\n",
       "Using true weight decay as discussed in https://www.fast.ai/2018/07/02/adam-weight-decay/ \n",
       "Loss function : FlattenedLoss\n",
       "======================================================================\n",
       "Callbacks functions applied "
      ]
     },
     "execution_count": 32,
     "metadata": {},
     "output_type": "execute_result"
    }
   ],
   "source": [
    "learn.summary()"
   ]
  },
  {
   "cell_type": "code",
   "execution_count": 33,
   "metadata": {},
   "outputs": [
    {
     "data": {
      "text/plain": [
       "PosixPath('.')"
      ]
     },
     "execution_count": 33,
     "metadata": {},
     "output_type": "execute_result"
    }
   ],
   "source": [
    "learn.path"
   ]
  },
  {
   "cell_type": "code",
   "execution_count": 34,
   "metadata": {},
   "outputs": [],
   "source": [
    "learn.export('fastai_trained_model_78Acc.pkl')#export the model for easy deployment"
   ]
  },
  {
   "cell_type": "code",
   "execution_count": null,
   "metadata": {},
   "outputs": [],
   "source": []
  },
  {
   "cell_type": "code",
   "execution_count": null,
   "metadata": {},
   "outputs": [],
   "source": []
  },
  {
   "cell_type": "code",
   "execution_count": null,
   "metadata": {},
   "outputs": [],
   "source": []
  }
 ],
 "metadata": {
  "kernelspec": {
   "display_name": "Python 3",
   "language": "python",
   "name": "python3"
  },
  "language_info": {
   "codemirror_mode": {
    "name": "ipython",
    "version": 3
   },
   "file_extension": ".py",
   "mimetype": "text/x-python",
   "name": "python",
   "nbconvert_exporter": "python",
   "pygments_lexer": "ipython3",
   "version": "3.7.3"
  }
 },
 "nbformat": 4,
 "nbformat_minor": 4
}
